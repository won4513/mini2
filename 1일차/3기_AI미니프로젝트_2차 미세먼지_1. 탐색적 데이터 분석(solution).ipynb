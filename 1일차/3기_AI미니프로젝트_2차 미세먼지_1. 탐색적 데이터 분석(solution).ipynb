{
 "cells": [
  {
   "cell_type": "markdown",
   "id": "boxed-jamaica",
   "metadata": {},
   "source": [
    "**AIVLE School 미니프로젝트**\n",
    "### **공공데이터를 활용한 <span style=\"color:darkgreen\">미세먼지 농도</span> 예측**\n",
    "---"
   ]
  },
  {
   "cell_type": "markdown",
   "id": "967a7044-88a2-4b77-b020-5866c102d33d",
   "metadata": {},
   "source": [
    "#### **<span style=\"color:red\">[미션 안내]</span>**\n",
    "* 개인 미션: 미세먼지 농도를 예측하는 머신러닝 모델을 만드세요. ([2-1]부터 [2-10], [3-1]부터 [3-2] 까지 미션 수행)\n",
    "* 조별 미션: 개인 미션 수행한 내용에 대해 토론하여 발표 준비를 해주세요."
   ]
  },
  {
   "cell_type": "markdown",
   "id": "909025a3-58ec-482b-bdf2-6d828df85761",
   "metadata": {},
   "source": [
    "#### **<span style=\"color:red\">[주피터 노트북 파일 안내]</span>**\n",
    "1. 탐색적 데이터 분석(solution).ipynb: 미션 수행 대상 아님. 제공된 solution을 참고하여 [2-1]부터의 미션 수행을 위한 탐색적 데이터 분석 진행</br>\n",
    "2. 데이터 전처리.ipynb: [2-1]부터 [2-10] 까지 미션 수행 대상</br>\n",
    "3. 모델링(머신러닝).ipynb: [3-1]부터 [3-2] 까지 미션 수행 대상. [4-1]~[4-4]는 선택 사항임</br>"
   ]
  },
  {
   "cell_type": "markdown",
   "id": "a4e61711-04b3-4878-b95e-9115e4299ed1",
   "metadata": {},
   "source": [
    "#### **<span style=\"color:red\">[데이터 설명]</span>**\n",
    "\n",
    "* air_2021.csv : 2021년 미세먼지 데이터\n",
    "* air_2022.csv : 2022년 미세먼지 데이터\n",
    "* weather_2021.csv : 2021년 날씨 데이터\n",
    "* weather_2022.csv : 2022년 날씨 데이터\n",
    "* 학습 데이터: 2021년의 미세먼지 농도 데이터, 테스트 데이터: 2022년의 미세먼지 농도 데이터"
   ]
  },
  {
   "cell_type": "markdown",
   "id": "f2bc4fa5",
   "metadata": {},
   "source": [
    "# [Step 1] 탐색적 데이터 분석"
   ]
  },
  {
   "cell_type": "markdown",
   "id": "d480e6d6-3d32-43f7-94c7-4e0ebf980890",
   "metadata": {},
   "source": [
    "#### **<span style=\"color:blue\">[1-1] 필요한 라이브러리 설치</span>**"
   ]
  },
  {
   "cell_type": "code",
   "execution_count": 2,
   "id": "4c6ced42",
   "metadata": {},
   "outputs": [
    {
     "name": "stdout",
     "output_type": "stream",
     "text": [
      "Requirement already satisfied: pandas in c:\\programdata\\anaconda3\\lib\\site-packages (1.0.5)\n",
      "Requirement already satisfied: seaborn in c:\\programdata\\anaconda3\\lib\\site-packages (0.10.1)\n",
      "Requirement already satisfied: python-dateutil>=2.6.1 in c:\\programdata\\anaconda3\\lib\\site-packages (from pandas) (2.8.1)\n",
      "Requirement already satisfied: pytz>=2017.2 in c:\\programdata\\anaconda3\\lib\\site-packages (from pandas) (2020.1)\n",
      "Requirement already satisfied: numpy>=1.13.3 in c:\\programdata\\anaconda3\\lib\\site-packages (from pandas) (1.18.5)\n",
      "Requirement already satisfied: matplotlib>=2.1.2 in c:\\programdata\\anaconda3\\lib\\site-packages (from seaborn) (3.2.2)\n",
      "Requirement already satisfied: scipy>=1.0.1 in c:\\programdata\\anaconda3\\lib\\site-packages (from seaborn) (1.5.0)\n",
      "Requirement already satisfied: six>=1.5 in c:\\programdata\\anaconda3\\lib\\site-packages (from python-dateutil>=2.6.1->pandas) (1.15.0)\n",
      "Requirement already satisfied: kiwisolver>=1.0.1 in c:\\programdata\\anaconda3\\lib\\site-packages (from matplotlib>=2.1.2->seaborn) (1.2.0)\n",
      "Requirement already satisfied: pyparsing!=2.0.4,!=2.1.2,!=2.1.6,>=2.0.1 in c:\\programdata\\anaconda3\\lib\\site-packages (from matplotlib>=2.1.2->seaborn) (2.4.7)\n",
      "Requirement already satisfied: cycler>=0.10 in c:\\programdata\\anaconda3\\lib\\site-packages (from matplotlib>=2.1.2->seaborn) (0.10.0)\n",
      "Note: you may need to restart the kernel to use updated packages.\n"
     ]
    }
   ],
   "source": [
    "# 필요한 라이브러리 설치 및 임포트\n",
    "%pip install pandas seaborn\n",
    "\n",
    "import pandas as pd\n",
    "import seaborn as sns\n",
    "import matplotlib as plt"
   ]
  },
  {
   "cell_type": "markdown",
   "id": "d7d7725c",
   "metadata": {},
   "source": [
    "---"
   ]
  },
  {
   "cell_type": "markdown",
   "id": "5e04ec22-530b-432f-967e-c38a2430aebf",
   "metadata": {},
   "source": [
    "#### **<span style=\"color:blue\">[1-2] 미세먼지 데이터 불러오기</span>**"
   ]
  },
  {
   "cell_type": "markdown",
   "id": "vocational-animal",
   "metadata": {},
   "source": [
    "* Pandas 라이브러리를 활용해서 'air_2021.csv'파일을 'air_21' 변수에, 'air_2022.csv'파일을 'air_22' 변수에 저장하고 그 데이터를 확인하세요.\n",
    "* 구분자(sep) : ','\n",
    "* encoder = 'utf-8'\n",
    "* index_col = 0"
   ]
  },
  {
   "cell_type": "code",
   "execution_count": 4,
   "id": "saving-slope",
   "metadata": {},
   "outputs": [],
   "source": [
    "# 아래에 실습코드를 작성하고 결과를 확인합니다.\n",
    "# 'air_2021.csv'파일을 'air_21' 변수에, 'air_2022.csv'파일을 'air_22' 변수에 저장\n",
    "\n",
    "air_21 = pd.read_csv(\"C:/Users/admin/Desktop/에이블 실습/miniproject2/air_2021.csv\", sep=',', index_col = 0, encoding = 'utf-8' )\n",
    "air_22 = pd.read_csv(\"C:/Users/admin/Desktop/에이블 실습/miniproject2/air_2022.csv\", sep=',', index_col = 0, encoding = 'utf-8' )"
   ]
  },
  {
   "cell_type": "code",
   "execution_count": 5,
   "id": "90307d62",
   "metadata": {},
   "outputs": [
    {
     "data": {
      "text/html": [
       "<div>\n",
       "<style scoped>\n",
       "    .dataframe tbody tr th:only-of-type {\n",
       "        vertical-align: middle;\n",
       "    }\n",
       "\n",
       "    .dataframe tbody tr th {\n",
       "        vertical-align: top;\n",
       "    }\n",
       "\n",
       "    .dataframe thead th {\n",
       "        text-align: right;\n",
       "    }\n",
       "</style>\n",
       "<table border=\"1\" class=\"dataframe\">\n",
       "  <thead>\n",
       "    <tr style=\"text-align: right;\">\n",
       "      <th></th>\n",
       "      <th>지역</th>\n",
       "      <th>망</th>\n",
       "      <th>측정소코드</th>\n",
       "      <th>측정소명</th>\n",
       "      <th>측정일시</th>\n",
       "      <th>SO2</th>\n",
       "      <th>CO</th>\n",
       "      <th>O3</th>\n",
       "      <th>NO2</th>\n",
       "      <th>PM10</th>\n",
       "      <th>PM25</th>\n",
       "      <th>주소</th>\n",
       "    </tr>\n",
       "  </thead>\n",
       "  <tbody>\n",
       "    <tr>\n",
       "      <th>0</th>\n",
       "      <td>서울 종로구</td>\n",
       "      <td>도시대기</td>\n",
       "      <td>111123</td>\n",
       "      <td>종로구</td>\n",
       "      <td>2021100101</td>\n",
       "      <td>0.003</td>\n",
       "      <td>0.6</td>\n",
       "      <td>0.002</td>\n",
       "      <td>0.039</td>\n",
       "      <td>31.0</td>\n",
       "      <td>18.0</td>\n",
       "      <td>서울 종로구 종로35가길 19</td>\n",
       "    </tr>\n",
       "    <tr>\n",
       "      <th>1</th>\n",
       "      <td>서울 종로구</td>\n",
       "      <td>도시대기</td>\n",
       "      <td>111123</td>\n",
       "      <td>종로구</td>\n",
       "      <td>2021100102</td>\n",
       "      <td>0.003</td>\n",
       "      <td>0.6</td>\n",
       "      <td>0.002</td>\n",
       "      <td>0.035</td>\n",
       "      <td>27.0</td>\n",
       "      <td>16.0</td>\n",
       "      <td>서울 종로구 종로35가길 19</td>\n",
       "    </tr>\n",
       "    <tr>\n",
       "      <th>2</th>\n",
       "      <td>서울 종로구</td>\n",
       "      <td>도시대기</td>\n",
       "      <td>111123</td>\n",
       "      <td>종로구</td>\n",
       "      <td>2021100103</td>\n",
       "      <td>0.003</td>\n",
       "      <td>0.6</td>\n",
       "      <td>0.002</td>\n",
       "      <td>0.033</td>\n",
       "      <td>28.0</td>\n",
       "      <td>18.0</td>\n",
       "      <td>서울 종로구 종로35가길 19</td>\n",
       "    </tr>\n",
       "    <tr>\n",
       "      <th>3</th>\n",
       "      <td>서울 종로구</td>\n",
       "      <td>도시대기</td>\n",
       "      <td>111123</td>\n",
       "      <td>종로구</td>\n",
       "      <td>2021100104</td>\n",
       "      <td>0.003</td>\n",
       "      <td>0.6</td>\n",
       "      <td>0.002</td>\n",
       "      <td>0.030</td>\n",
       "      <td>26.0</td>\n",
       "      <td>16.0</td>\n",
       "      <td>서울 종로구 종로35가길 19</td>\n",
       "    </tr>\n",
       "    <tr>\n",
       "      <th>4</th>\n",
       "      <td>서울 종로구</td>\n",
       "      <td>도시대기</td>\n",
       "      <td>111123</td>\n",
       "      <td>종로구</td>\n",
       "      <td>2021100105</td>\n",
       "      <td>0.003</td>\n",
       "      <td>0.5</td>\n",
       "      <td>0.003</td>\n",
       "      <td>0.026</td>\n",
       "      <td>26.0</td>\n",
       "      <td>16.0</td>\n",
       "      <td>서울 종로구 종로35가길 19</td>\n",
       "    </tr>\n",
       "  </tbody>\n",
       "</table>\n",
       "</div>"
      ],
      "text/plain": [
       "       지역     망   측정소코드 측정소명        측정일시    SO2   CO     O3    NO2  PM10  \\\n",
       "0  서울 종로구  도시대기  111123  종로구  2021100101  0.003  0.6  0.002  0.039  31.0   \n",
       "1  서울 종로구  도시대기  111123  종로구  2021100102  0.003  0.6  0.002  0.035  27.0   \n",
       "2  서울 종로구  도시대기  111123  종로구  2021100103  0.003  0.6  0.002  0.033  28.0   \n",
       "3  서울 종로구  도시대기  111123  종로구  2021100104  0.003  0.6  0.002  0.030  26.0   \n",
       "4  서울 종로구  도시대기  111123  종로구  2021100105  0.003  0.5  0.003  0.026  26.0   \n",
       "\n",
       "   PM25                주소  \n",
       "0  18.0  서울 종로구 종로35가길 19  \n",
       "1  16.0  서울 종로구 종로35가길 19  \n",
       "2  18.0  서울 종로구 종로35가길 19  \n",
       "3  16.0  서울 종로구 종로35가길 19  \n",
       "4  16.0  서울 종로구 종로35가길 19  "
      ]
     },
     "execution_count": 5,
     "metadata": {},
     "output_type": "execute_result"
    }
   ],
   "source": [
    "# air_21 데이터의 head 확인\n",
    "\n",
    "air_21.head()"
   ]
  },
  {
   "cell_type": "code",
   "execution_count": 7,
   "id": "funny-subcommittee",
   "metadata": {},
   "outputs": [
    {
     "data": {
      "text/plain": [
       "(8760, 12)"
      ]
     },
     "execution_count": 7,
     "metadata": {},
     "output_type": "execute_result"
    }
   ],
   "source": [
    "# air_21 데이터의 shape 확인\n",
    "\n",
    "air_21.shape"
   ]
  },
  {
   "cell_type": "code",
   "execution_count": 8,
   "id": "dd66a7d4-108f-4253-99eb-a7e8eedf3d2c",
   "metadata": {},
   "outputs": [
    {
     "data": {
      "text/html": [
       "<div>\n",
       "<style scoped>\n",
       "    .dataframe tbody tr th:only-of-type {\n",
       "        vertical-align: middle;\n",
       "    }\n",
       "\n",
       "    .dataframe tbody tr th {\n",
       "        vertical-align: top;\n",
       "    }\n",
       "\n",
       "    .dataframe thead th {\n",
       "        text-align: right;\n",
       "    }\n",
       "</style>\n",
       "<table border=\"1\" class=\"dataframe\">\n",
       "  <thead>\n",
       "    <tr style=\"text-align: right;\">\n",
       "      <th></th>\n",
       "      <th>지역</th>\n",
       "      <th>망</th>\n",
       "      <th>측정소코드</th>\n",
       "      <th>측정소명</th>\n",
       "      <th>측정일시</th>\n",
       "      <th>SO2</th>\n",
       "      <th>CO</th>\n",
       "      <th>O3</th>\n",
       "      <th>NO2</th>\n",
       "      <th>PM10</th>\n",
       "      <th>PM25</th>\n",
       "      <th>주소</th>\n",
       "    </tr>\n",
       "  </thead>\n",
       "  <tbody>\n",
       "    <tr>\n",
       "      <th>0</th>\n",
       "      <td>서울 종로구</td>\n",
       "      <td>도시대기</td>\n",
       "      <td>111123</td>\n",
       "      <td>종로구</td>\n",
       "      <td>2022010101</td>\n",
       "      <td>0.003</td>\n",
       "      <td>0.4</td>\n",
       "      <td>0.026</td>\n",
       "      <td>0.016</td>\n",
       "      <td>23.0</td>\n",
       "      <td>12.0</td>\n",
       "      <td>서울 종로구 종로35가길 19</td>\n",
       "    </tr>\n",
       "    <tr>\n",
       "      <th>1</th>\n",
       "      <td>서울 종로구</td>\n",
       "      <td>도시대기</td>\n",
       "      <td>111123</td>\n",
       "      <td>종로구</td>\n",
       "      <td>2022010102</td>\n",
       "      <td>0.003</td>\n",
       "      <td>0.4</td>\n",
       "      <td>0.022</td>\n",
       "      <td>0.020</td>\n",
       "      <td>20.0</td>\n",
       "      <td>9.0</td>\n",
       "      <td>서울 종로구 종로35가길 19</td>\n",
       "    </tr>\n",
       "    <tr>\n",
       "      <th>2</th>\n",
       "      <td>서울 종로구</td>\n",
       "      <td>도시대기</td>\n",
       "      <td>111123</td>\n",
       "      <td>종로구</td>\n",
       "      <td>2022010103</td>\n",
       "      <td>0.003</td>\n",
       "      <td>0.5</td>\n",
       "      <td>0.014</td>\n",
       "      <td>0.028</td>\n",
       "      <td>20.0</td>\n",
       "      <td>9.0</td>\n",
       "      <td>서울 종로구 종로35가길 19</td>\n",
       "    </tr>\n",
       "    <tr>\n",
       "      <th>3</th>\n",
       "      <td>서울 종로구</td>\n",
       "      <td>도시대기</td>\n",
       "      <td>111123</td>\n",
       "      <td>종로구</td>\n",
       "      <td>2022010104</td>\n",
       "      <td>0.003</td>\n",
       "      <td>0.5</td>\n",
       "      <td>0.016</td>\n",
       "      <td>0.027</td>\n",
       "      <td>19.0</td>\n",
       "      <td>10.0</td>\n",
       "      <td>서울 종로구 종로35가길 19</td>\n",
       "    </tr>\n",
       "    <tr>\n",
       "      <th>4</th>\n",
       "      <td>서울 종로구</td>\n",
       "      <td>도시대기</td>\n",
       "      <td>111123</td>\n",
       "      <td>종로구</td>\n",
       "      <td>2022010105</td>\n",
       "      <td>0.003</td>\n",
       "      <td>0.5</td>\n",
       "      <td>0.005</td>\n",
       "      <td>0.040</td>\n",
       "      <td>24.0</td>\n",
       "      <td>11.0</td>\n",
       "      <td>서울 종로구 종로35가길 19</td>\n",
       "    </tr>\n",
       "  </tbody>\n",
       "</table>\n",
       "</div>"
      ],
      "text/plain": [
       "       지역     망   측정소코드 측정소명        측정일시    SO2   CO     O3    NO2  PM10  \\\n",
       "0  서울 종로구  도시대기  111123  종로구  2022010101  0.003  0.4  0.026  0.016  23.0   \n",
       "1  서울 종로구  도시대기  111123  종로구  2022010102  0.003  0.4  0.022  0.020  20.0   \n",
       "2  서울 종로구  도시대기  111123  종로구  2022010103  0.003  0.5  0.014  0.028  20.0   \n",
       "3  서울 종로구  도시대기  111123  종로구  2022010104  0.003  0.5  0.016  0.027  19.0   \n",
       "4  서울 종로구  도시대기  111123  종로구  2022010105  0.003  0.5  0.005  0.040  24.0   \n",
       "\n",
       "   PM25                주소  \n",
       "0  12.0  서울 종로구 종로35가길 19  \n",
       "1   9.0  서울 종로구 종로35가길 19  \n",
       "2   9.0  서울 종로구 종로35가길 19  \n",
       "3  10.0  서울 종로구 종로35가길 19  \n",
       "4  11.0  서울 종로구 종로35가길 19  "
      ]
     },
     "execution_count": 8,
     "metadata": {},
     "output_type": "execute_result"
    }
   ],
   "source": [
    "# air_22 데이터의 head 확인\n",
    "\n",
    "air_22.head()"
   ]
  },
  {
   "cell_type": "code",
   "execution_count": 9,
   "id": "6d77b925",
   "metadata": {},
   "outputs": [
    {
     "data": {
      "text/plain": [
       "(2160, 12)"
      ]
     },
     "execution_count": 9,
     "metadata": {},
     "output_type": "execute_result"
    }
   ],
   "source": [
    "# air_22 데이터의 shape 확인\n",
    "\n",
    "air_22.shape"
   ]
  },
  {
   "cell_type": "markdown",
   "id": "b90ad7aa-f7ba-4d6b-8ed5-1473fd8962fd",
   "metadata": {},
   "source": [
    "---"
   ]
  },
  {
   "cell_type": "markdown",
   "id": "1d5578ce-495d-4a79-9f27-77f4683d8352",
   "metadata": {},
   "source": [
    "#### **<span style=\"color:blue\">[1-3] 날씨 데이터 불러오기</span>**"
   ]
  },
  {
   "cell_type": "markdown",
   "id": "cb0ea254",
   "metadata": {},
   "source": [
    "* Pandas 라이브러리를 활용해서 'weather_2021.csv'파일을 'weather_21' 변수에, 'weather_2022.csv'파일을 'weather_22' 변수에 저장하고 그 데이터를 확인하세요.\n",
    "* 구분자(sep) : ','\n",
    "* encoder = 'cp949'"
   ]
  },
  {
   "cell_type": "code",
   "execution_count": 6,
   "id": "25c17195",
   "metadata": {},
   "outputs": [],
   "source": [
    "#'weather_2021.csv'파일을 'weather_21' 변수에, 'weather_2022.csv'파일을 'weather_22' 변수에 저장\n",
    "\n",
    "weather_21 = pd.read_csv(\"C:/Users/admin/Desktop/에이블 실습/miniproject2/weather_2021.csv\", sep = ',', encoding='cp949')\n",
    "weather_22 = pd.read_csv(\"C:/Users/admin/Desktop/에이블 실습/miniproject2/weather_2022.csv\", sep = ',', encoding='cp949')"
   ]
  },
  {
   "cell_type": "code",
   "execution_count": 11,
   "id": "3b77003b",
   "metadata": {},
   "outputs": [
    {
     "data": {
      "text/plain": [
       "(2160, 38)"
      ]
     },
     "execution_count": 11,
     "metadata": {},
     "output_type": "execute_result"
    }
   ],
   "source": [
    "# 미세먼지 데이터와 같이 날씨 데이터의 head, shape 등을 확인\n",
    "\n",
    "weather_22.shape"
   ]
  },
  {
   "cell_type": "markdown",
   "id": "5a366021-a8ae-41f3-b199-9eb81c6145d7",
   "metadata": {},
   "source": [
    "---"
   ]
  },
  {
   "cell_type": "markdown",
   "id": "2d695c0c-7081-4964-a970-0ee7196e0c71",
   "metadata": {},
   "source": [
    "#### **<span style=\"color:blue\">[1-4] 데이터 변수 확인</span>**"
   ]
  },
  {
   "cell_type": "code",
   "execution_count": 12,
   "id": "demographic-battery",
   "metadata": {},
   "outputs": [
    {
     "name": "stdout",
     "output_type": "stream",
     "text": [
      "<class 'pandas.core.frame.DataFrame'>\n",
      "Int64Index: 8760 entries, 0 to 8759\n",
      "Data columns (total 12 columns):\n",
      " #   Column  Non-Null Count  Dtype  \n",
      "---  ------  --------------  -----  \n",
      " 0   지역      8760 non-null   object \n",
      " 1   망       8760 non-null   object \n",
      " 2   측정소코드   8760 non-null   int64  \n",
      " 3   측정소명    8760 non-null   object \n",
      " 4   측정일시    8760 non-null   int64  \n",
      " 5   SO2     8648 non-null   float64\n",
      " 6   CO      8680 non-null   float64\n",
      " 7   O3      8663 non-null   float64\n",
      " 8   NO2     8680 non-null   float64\n",
      " 9   PM10    8655 non-null   float64\n",
      " 10  PM25    8663 non-null   float64\n",
      " 11  주소      8760 non-null   object \n",
      "dtypes: float64(6), int64(2), object(4)\n",
      "memory usage: 889.7+ KB\n",
      "<class 'pandas.core.frame.DataFrame'>\n",
      "RangeIndex: 8759 entries, 0 to 8758\n",
      "Data columns (total 38 columns):\n",
      " #   Column         Non-Null Count  Dtype  \n",
      "---  ------         --------------  -----  \n",
      " 0   지점             8759 non-null   int64  \n",
      " 1   지점명            8759 non-null   object \n",
      " 2   일시             8759 non-null   object \n",
      " 3   기온(°C)         8759 non-null   float64\n",
      " 4   기온 QC플래그       0 non-null      float64\n",
      " 5   강수량(mm)        949 non-null    float64\n",
      " 6   강수량 QC플래그      1763 non-null   float64\n",
      " 7   풍속(m/s)        8757 non-null   float64\n",
      " 8   풍속 QC플래그       2 non-null      float64\n",
      " 9   풍향(16방위)       8757 non-null   float64\n",
      " 10  풍향 QC플래그       2 non-null      float64\n",
      " 11  습도(%)          8759 non-null   int64  \n",
      " 12  습도 QC플래그       0 non-null      float64\n",
      " 13  증기압(hPa)       8759 non-null   float64\n",
      " 14  이슬점온도(°C)      8759 non-null   float64\n",
      " 15  현지기압(hPa)      8759 non-null   float64\n",
      " 16  현지기압 QC플래그     0 non-null      float64\n",
      " 17  해면기압(hPa)      8759 non-null   float64\n",
      " 18  해면기압 QC플래그     0 non-null      float64\n",
      " 19  일조(hr)         4791 non-null   float64\n",
      " 20  일조 QC플래그       3968 non-null   float64\n",
      " 21  일사(MJ/m2)      4791 non-null   float64\n",
      " 22  일사 QC플래그       3968 non-null   float64\n",
      " 23  적설(cm)         379 non-null    float64\n",
      " 24  3시간신적설(cm)     29 non-null     float64\n",
      " 25  전운량(10분위)      8757 non-null   float64\n",
      " 26  중하층운량(10분위)    8759 non-null   int64  \n",
      " 27  운형(운형약어)       4947 non-null   object \n",
      " 28  최저운고(100m )    4547 non-null   float64\n",
      " 29  시정(10m)        8759 non-null   int64  \n",
      " 30  지면상태(지면상태코드)   0 non-null      float64\n",
      " 31  현상번호(국내식)      2125 non-null   float64\n",
      " 32  지면온도(°C)       8754 non-null   float64\n",
      " 33  지면온도 QC플래그     24 non-null     float64\n",
      " 34  5cm 지중온도(°C)   8754 non-null   float64\n",
      " 35  10cm 지중온도(°C)  8754 non-null   float64\n",
      " 36  20cm 지중온도(°C)  8754 non-null   float64\n",
      " 37  30cm 지중온도(°C)  8754 non-null   float64\n",
      "dtypes: float64(31), int64(4), object(3)\n",
      "memory usage: 2.5+ MB\n"
     ]
    }
   ],
   "source": [
    "# 각 데이터프레임의 info 확인\n",
    "\n",
    "air_21.info()\n",
    "weather_21.info()"
   ]
  },
  {
   "cell_type": "code",
   "execution_count": 13,
   "id": "940a114a",
   "metadata": {},
   "outputs": [],
   "source": [
    "# 아래에 필요한 코드를 작성하고 결과를 확인합니다.\n",
    "\n"
   ]
  },
  {
   "cell_type": "code",
   "execution_count": 14,
   "id": "76019dd9",
   "metadata": {},
   "outputs": [],
   "source": [
    "# 아래에 필요한 코드를 작성하고 결과를 확인합니다.\n",
    "\n"
   ]
  },
  {
   "cell_type": "markdown",
   "id": "602b8bae",
   "metadata": {
    "tags": []
   },
   "source": [
    "---"
   ]
  },
  {
   "cell_type": "markdown",
   "id": "189b5049-ccf9-41f1-a6cd-6d749332451d",
   "metadata": {},
   "source": [
    "#### **<span style=\"color:blue\">[1-5] 미세먼지 데이터 분석</span>**"
   ]
  },
  {
   "cell_type": "markdown",
   "id": "southeast-integration",
   "metadata": {},
   "source": [
    "* 데이터 전처리와 모델링을 위해 데이터 분석을 진행해보세요. 시각화 등을 통해 관측치들의 패턴 탐색, 잘못된 자료 탐색, 변수들간의 관계 파악을 할 수 있습니다."
   ]
  },
  {
   "cell_type": "code",
   "execution_count": 15,
   "id": "194ae01d",
   "metadata": {},
   "outputs": [],
   "source": [
    "# 시각화 한글폰트 설정 (아래 코드를 실행하세요)\n",
    "\n",
    "plt.rc('font', family='Malgun Gothic')\n",
    "sns.set(font=\"Malgun Gothic\",#\"NanumGothicCoding\", \n",
    "        rc={\"axes.unicode_minus\":False}, # 마이너스 부호 깨짐 현상 해결\n",
    "        style='darkgrid')"
   ]
  },
  {
   "cell_type": "code",
   "execution_count": 16,
   "id": "2a610ade",
   "metadata": {},
   "outputs": [
    {
     "data": {
      "text/plain": [
       "<AxesSubplot:>"
      ]
     },
     "execution_count": 16,
     "metadata": {},
     "output_type": "execute_result"
    },
    {
     "data": {
      "image/png": "[encoded data removed]",
      "text/plain": [
       "<Figure size 432x288 with 1 Axes>"
      ]
     },
     "metadata": {},
     "output_type": "display_data"
    }
   ],
   "source": [
    "# air_21,air_22 의 다양한 변수에 대하여 시각화\n",
    "\n",
    "air_21['측정일시'].plot.line()\n",
    "\n"
   ]
  },
  {
   "cell_type": "code",
   "execution_count": 17,
   "id": "b0bc6ec5",
   "metadata": {},
   "outputs": [
    {
     "data": {
      "text/plain": [
       "<AxesSubplot:>"
      ]
     },
     "execution_count": 17,
     "metadata": {},
     "output_type": "execute_result"
    },
    {
     "data": {
      "image/png": "[encoded data removed]",
      "text/plain": [
       "<Figure size 1440x576 with 1 Axes>"
      ]
     },
     "metadata": {},
     "output_type": "display_data"
    }
   ],
   "source": [
    "# 아래에 필요한 코드를 작성하고 결과를 확인합니다.\n",
    "\n",
    "air_21[['PM10','PM25']].plot.line(figsize=(20,8))\n",
    "\n"
   ]
  },
  {
   "cell_type": "code",
   "execution_count": 18,
   "id": "f295f8db",
   "metadata": {},
   "outputs": [],
   "source": [
    "# 아래에 필요한 코드를 작성하고 결과를 확인합니다.\n",
    "\n",
    "\n"
   ]
  },
  {
   "cell_type": "code",
   "execution_count": 19,
   "id": "86892a60",
   "metadata": {},
   "outputs": [],
   "source": [
    "# 시각화를 통해 알게된 사실을 정리해봅니다.\n",
    "# 1. \n",
    "# 2.\n",
    "# 3."
   ]
  },
  {
   "cell_type": "markdown",
   "id": "5b94a5fa-3b40-404b-a3ba-f04ffa855aa3",
   "metadata": {
    "tags": []
   },
   "source": [
    "---"
   ]
  },
  {
   "cell_type": "markdown",
   "id": "61945726-a2f9-4abc-965b-eedb0d5b492b",
   "metadata": {},
   "source": [
    "#### **<span style=\"color:blue\">[1-6] 날씨 데이터 분석</span>**"
   ]
  },
  {
   "cell_type": "code",
   "execution_count": 20,
   "id": "f1ca7a5a",
   "metadata": {},
   "outputs": [
    {
     "data": {
      "text/html": [
       "<div>\n",
       "<style scoped>\n",
       "    .dataframe tbody tr th:only-of-type {\n",
       "        vertical-align: middle;\n",
       "    }\n",
       "\n",
       "    .dataframe tbody tr th {\n",
       "        vertical-align: top;\n",
       "    }\n",
       "\n",
       "    .dataframe thead th {\n",
       "        text-align: right;\n",
       "    }\n",
       "</style>\n",
       "<table border=\"1\" class=\"dataframe\">\n",
       "  <thead>\n",
       "    <tr style=\"text-align: right;\">\n",
       "      <th></th>\n",
       "      <th>지점</th>\n",
       "      <th>지점명</th>\n",
       "      <th>일시</th>\n",
       "      <th>기온(°C)</th>\n",
       "      <th>기온 QC플래그</th>\n",
       "      <th>강수량(mm)</th>\n",
       "      <th>강수량 QC플래그</th>\n",
       "      <th>풍속(m/s)</th>\n",
       "      <th>풍속 QC플래그</th>\n",
       "      <th>풍향(16방위)</th>\n",
       "      <th>...</th>\n",
       "      <th>최저운고(100m )</th>\n",
       "      <th>시정(10m)</th>\n",
       "      <th>지면상태(지면상태코드)</th>\n",
       "      <th>현상번호(국내식)</th>\n",
       "      <th>지면온도(°C)</th>\n",
       "      <th>지면온도 QC플래그</th>\n",
       "      <th>5cm 지중온도(°C)</th>\n",
       "      <th>10cm 지중온도(°C)</th>\n",
       "      <th>20cm 지중온도(°C)</th>\n",
       "      <th>30cm 지중온도(°C)</th>\n",
       "    </tr>\n",
       "  </thead>\n",
       "  <tbody>\n",
       "    <tr>\n",
       "      <th>0</th>\n",
       "      <td>108</td>\n",
       "      <td>서울</td>\n",
       "      <td>2021-01-01 01:00</td>\n",
       "      <td>-8.7</td>\n",
       "      <td>NaN</td>\n",
       "      <td>NaN</td>\n",
       "      <td>NaN</td>\n",
       "      <td>2.4</td>\n",
       "      <td>NaN</td>\n",
       "      <td>270.0</td>\n",
       "      <td>...</td>\n",
       "      <td>NaN</td>\n",
       "      <td>2000</td>\n",
       "      <td>NaN</td>\n",
       "      <td>NaN</td>\n",
       "      <td>-6.9</td>\n",
       "      <td>NaN</td>\n",
       "      <td>-1.0</td>\n",
       "      <td>-0.8</td>\n",
       "      <td>0.3</td>\n",
       "      <td>1.6</td>\n",
       "    </tr>\n",
       "    <tr>\n",
       "      <th>1</th>\n",
       "      <td>108</td>\n",
       "      <td>서울</td>\n",
       "      <td>2021-01-01 02:00</td>\n",
       "      <td>-9.1</td>\n",
       "      <td>NaN</td>\n",
       "      <td>NaN</td>\n",
       "      <td>NaN</td>\n",
       "      <td>1.6</td>\n",
       "      <td>NaN</td>\n",
       "      <td>270.0</td>\n",
       "      <td>...</td>\n",
       "      <td>NaN</td>\n",
       "      <td>2000</td>\n",
       "      <td>NaN</td>\n",
       "      <td>NaN</td>\n",
       "      <td>-7.1</td>\n",
       "      <td>NaN</td>\n",
       "      <td>-1.1</td>\n",
       "      <td>-0.8</td>\n",
       "      <td>0.3</td>\n",
       "      <td>1.6</td>\n",
       "    </tr>\n",
       "    <tr>\n",
       "      <th>2</th>\n",
       "      <td>108</td>\n",
       "      <td>서울</td>\n",
       "      <td>2021-01-01 03:00</td>\n",
       "      <td>-9.3</td>\n",
       "      <td>NaN</td>\n",
       "      <td>NaN</td>\n",
       "      <td>NaN</td>\n",
       "      <td>1.1</td>\n",
       "      <td>NaN</td>\n",
       "      <td>250.0</td>\n",
       "      <td>...</td>\n",
       "      <td>NaN</td>\n",
       "      <td>2000</td>\n",
       "      <td>NaN</td>\n",
       "      <td>NaN</td>\n",
       "      <td>-7.3</td>\n",
       "      <td>NaN</td>\n",
       "      <td>-1.2</td>\n",
       "      <td>-0.9</td>\n",
       "      <td>0.3</td>\n",
       "      <td>1.6</td>\n",
       "    </tr>\n",
       "    <tr>\n",
       "      <th>3</th>\n",
       "      <td>108</td>\n",
       "      <td>서울</td>\n",
       "      <td>2021-01-01 04:00</td>\n",
       "      <td>-9.3</td>\n",
       "      <td>NaN</td>\n",
       "      <td>NaN</td>\n",
       "      <td>NaN</td>\n",
       "      <td>0.3</td>\n",
       "      <td>NaN</td>\n",
       "      <td>0.0</td>\n",
       "      <td>...</td>\n",
       "      <td>NaN</td>\n",
       "      <td>2000</td>\n",
       "      <td>NaN</td>\n",
       "      <td>NaN</td>\n",
       "      <td>-7.5</td>\n",
       "      <td>NaN</td>\n",
       "      <td>-1.3</td>\n",
       "      <td>-1.0</td>\n",
       "      <td>0.2</td>\n",
       "      <td>1.5</td>\n",
       "    </tr>\n",
       "    <tr>\n",
       "      <th>4</th>\n",
       "      <td>108</td>\n",
       "      <td>서울</td>\n",
       "      <td>2021-01-01 05:00</td>\n",
       "      <td>-9.7</td>\n",
       "      <td>NaN</td>\n",
       "      <td>NaN</td>\n",
       "      <td>NaN</td>\n",
       "      <td>1.9</td>\n",
       "      <td>NaN</td>\n",
       "      <td>20.0</td>\n",
       "      <td>...</td>\n",
       "      <td>NaN</td>\n",
       "      <td>2000</td>\n",
       "      <td>NaN</td>\n",
       "      <td>NaN</td>\n",
       "      <td>-7.6</td>\n",
       "      <td>NaN</td>\n",
       "      <td>-1.3</td>\n",
       "      <td>-1.0</td>\n",
       "      <td>0.2</td>\n",
       "      <td>1.5</td>\n",
       "    </tr>\n",
       "    <tr>\n",
       "      <th>...</th>\n",
       "      <td>...</td>\n",
       "      <td>...</td>\n",
       "      <td>...</td>\n",
       "      <td>...</td>\n",
       "      <td>...</td>\n",
       "      <td>...</td>\n",
       "      <td>...</td>\n",
       "      <td>...</td>\n",
       "      <td>...</td>\n",
       "      <td>...</td>\n",
       "      <td>...</td>\n",
       "      <td>...</td>\n",
       "      <td>...</td>\n",
       "      <td>...</td>\n",
       "      <td>...</td>\n",
       "      <td>...</td>\n",
       "      <td>...</td>\n",
       "      <td>...</td>\n",
       "      <td>...</td>\n",
       "      <td>...</td>\n",
       "      <td>...</td>\n",
       "    </tr>\n",
       "    <tr>\n",
       "      <th>8754</th>\n",
       "      <td>108</td>\n",
       "      <td>서울</td>\n",
       "      <td>2021-12-31 19:00</td>\n",
       "      <td>-6.4</td>\n",
       "      <td>NaN</td>\n",
       "      <td>NaN</td>\n",
       "      <td>NaN</td>\n",
       "      <td>2.2</td>\n",
       "      <td>NaN</td>\n",
       "      <td>250.0</td>\n",
       "      <td>...</td>\n",
       "      <td>NaN</td>\n",
       "      <td>2000</td>\n",
       "      <td>NaN</td>\n",
       "      <td>NaN</td>\n",
       "      <td>-4.5</td>\n",
       "      <td>NaN</td>\n",
       "      <td>-0.5</td>\n",
       "      <td>-0.7</td>\n",
       "      <td>-0.1</td>\n",
       "      <td>1.0</td>\n",
       "    </tr>\n",
       "    <tr>\n",
       "      <th>8755</th>\n",
       "      <td>108</td>\n",
       "      <td>서울</td>\n",
       "      <td>2021-12-31 20:00</td>\n",
       "      <td>-6.3</td>\n",
       "      <td>NaN</td>\n",
       "      <td>NaN</td>\n",
       "      <td>NaN</td>\n",
       "      <td>4.1</td>\n",
       "      <td>NaN</td>\n",
       "      <td>320.0</td>\n",
       "      <td>...</td>\n",
       "      <td>NaN</td>\n",
       "      <td>2000</td>\n",
       "      <td>NaN</td>\n",
       "      <td>NaN</td>\n",
       "      <td>-5.3</td>\n",
       "      <td>NaN</td>\n",
       "      <td>-0.6</td>\n",
       "      <td>-0.8</td>\n",
       "      <td>-0.1</td>\n",
       "      <td>1.0</td>\n",
       "    </tr>\n",
       "    <tr>\n",
       "      <th>8756</th>\n",
       "      <td>108</td>\n",
       "      <td>서울</td>\n",
       "      <td>2021-12-31 21:00</td>\n",
       "      <td>-6.7</td>\n",
       "      <td>NaN</td>\n",
       "      <td>NaN</td>\n",
       "      <td>NaN</td>\n",
       "      <td>4.8</td>\n",
       "      <td>NaN</td>\n",
       "      <td>320.0</td>\n",
       "      <td>...</td>\n",
       "      <td>NaN</td>\n",
       "      <td>2000</td>\n",
       "      <td>NaN</td>\n",
       "      <td>NaN</td>\n",
       "      <td>-5.7</td>\n",
       "      <td>NaN</td>\n",
       "      <td>-0.7</td>\n",
       "      <td>-0.8</td>\n",
       "      <td>-0.1</td>\n",
       "      <td>1.0</td>\n",
       "    </tr>\n",
       "    <tr>\n",
       "      <th>8757</th>\n",
       "      <td>108</td>\n",
       "      <td>서울</td>\n",
       "      <td>2021-12-31 22:00</td>\n",
       "      <td>-7.5</td>\n",
       "      <td>NaN</td>\n",
       "      <td>NaN</td>\n",
       "      <td>NaN</td>\n",
       "      <td>3.0</td>\n",
       "      <td>NaN</td>\n",
       "      <td>320.0</td>\n",
       "      <td>...</td>\n",
       "      <td>NaN</td>\n",
       "      <td>2000</td>\n",
       "      <td>NaN</td>\n",
       "      <td>NaN</td>\n",
       "      <td>-6.2</td>\n",
       "      <td>NaN</td>\n",
       "      <td>-0.8</td>\n",
       "      <td>-0.9</td>\n",
       "      <td>-0.2</td>\n",
       "      <td>1.0</td>\n",
       "    </tr>\n",
       "    <tr>\n",
       "      <th>8758</th>\n",
       "      <td>108</td>\n",
       "      <td>서울</td>\n",
       "      <td>2021-12-31 23:00</td>\n",
       "      <td>-7.7</td>\n",
       "      <td>NaN</td>\n",
       "      <td>NaN</td>\n",
       "      <td>NaN</td>\n",
       "      <td>2.9</td>\n",
       "      <td>NaN</td>\n",
       "      <td>320.0</td>\n",
       "      <td>...</td>\n",
       "      <td>NaN</td>\n",
       "      <td>2000</td>\n",
       "      <td>NaN</td>\n",
       "      <td>NaN</td>\n",
       "      <td>-6.5</td>\n",
       "      <td>NaN</td>\n",
       "      <td>-0.9</td>\n",
       "      <td>-0.9</td>\n",
       "      <td>-0.2</td>\n",
       "      <td>1.0</td>\n",
       "    </tr>\n",
       "  </tbody>\n",
       "</table>\n",
       "<p>8759 rows × 38 columns</p>\n",
       "</div>"
      ],
      "text/plain": [
       "       지점 지점명                일시  기온(°C)  기온 QC플래그  강수량(mm)  강수량 QC플래그  \\\n",
       "0     108  서울  2021-01-01 01:00    -8.7       NaN      NaN        NaN   \n",
       "1     108  서울  2021-01-01 02:00    -9.1       NaN      NaN        NaN   \n",
       "2     108  서울  2021-01-01 03:00    -9.3       NaN      NaN        NaN   \n",
       "3     108  서울  2021-01-01 04:00    -9.3       NaN      NaN        NaN   \n",
       "4     108  서울  2021-01-01 05:00    -9.7       NaN      NaN        NaN   \n",
       "...   ...  ..               ...     ...       ...      ...        ...   \n",
       "8754  108  서울  2021-12-31 19:00    -6.4       NaN      NaN        NaN   \n",
       "8755  108  서울  2021-12-31 20:00    -6.3       NaN      NaN        NaN   \n",
       "8756  108  서울  2021-12-31 21:00    -6.7       NaN      NaN        NaN   \n",
       "8757  108  서울  2021-12-31 22:00    -7.5       NaN      NaN        NaN   \n",
       "8758  108  서울  2021-12-31 23:00    -7.7       NaN      NaN        NaN   \n",
       "\n",
       "      풍속(m/s)  풍속 QC플래그  풍향(16방위)  ...  최저운고(100m )  시정(10m)  지면상태(지면상태코드)  \\\n",
       "0         2.4       NaN     270.0  ...          NaN     2000           NaN   \n",
       "1         1.6       NaN     270.0  ...          NaN     2000           NaN   \n",
       "2         1.1       NaN     250.0  ...          NaN     2000           NaN   \n",
       "3         0.3       NaN       0.0  ...          NaN     2000           NaN   \n",
       "4         1.9       NaN      20.0  ...          NaN     2000           NaN   \n",
       "...       ...       ...       ...  ...          ...      ...           ...   \n",
       "8754      2.2       NaN     250.0  ...          NaN     2000           NaN   \n",
       "8755      4.1       NaN     320.0  ...          NaN     2000           NaN   \n",
       "8756      4.8       NaN     320.0  ...          NaN     2000           NaN   \n",
       "8757      3.0       NaN     320.0  ...          NaN     2000           NaN   \n",
       "8758      2.9       NaN     320.0  ...          NaN     2000           NaN   \n",
       "\n",
       "      현상번호(국내식)  지면온도(°C)  지면온도 QC플래그  5cm 지중온도(°C)  10cm 지중온도(°C)  \\\n",
       "0           NaN      -6.9         NaN          -1.0           -0.8   \n",
       "1           NaN      -7.1         NaN          -1.1           -0.8   \n",
       "2           NaN      -7.3         NaN          -1.2           -0.9   \n",
       "3           NaN      -7.5         NaN          -1.3           -1.0   \n",
       "4           NaN      -7.6         NaN          -1.3           -1.0   \n",
       "...         ...       ...         ...           ...            ...   \n",
       "8754        NaN      -4.5         NaN          -0.5           -0.7   \n",
       "8755        NaN      -5.3         NaN          -0.6           -0.8   \n",
       "8756        NaN      -5.7         NaN          -0.7           -0.8   \n",
       "8757        NaN      -6.2         NaN          -0.8           -0.9   \n",
       "8758        NaN      -6.5         NaN          -0.9           -0.9   \n",
       "\n",
       "      20cm 지중온도(°C)  30cm 지중온도(°C)  \n",
       "0               0.3            1.6  \n",
       "1               0.3            1.6  \n",
       "2               0.3            1.6  \n",
       "3               0.2            1.5  \n",
       "4               0.2            1.5  \n",
       "...             ...            ...  \n",
       "8754           -0.1            1.0  \n",
       "8755           -0.1            1.0  \n",
       "8756           -0.1            1.0  \n",
       "8757           -0.2            1.0  \n",
       "8758           -0.2            1.0  \n",
       "\n",
       "[8759 rows x 38 columns]"
      ]
     },
     "execution_count": 20,
     "metadata": {},
     "output_type": "execute_result"
    }
   ],
   "source": [
    "weather_21"
   ]
  },
  {
   "cell_type": "code",
   "execution_count": 21,
   "id": "eb26af58",
   "metadata": {},
   "outputs": [
    {
     "data": {
      "text/plain": [
       "<AxesSubplot:>"
      ]
     },
     "execution_count": 21,
     "metadata": {},
     "output_type": "execute_result"
    },
    {
     "data": {
      "image/png": "[encoded data removed]",
      "text/plain": [
       "<Figure size 432x288 with 1 Axes>"
      ]
     },
     "metadata": {},
     "output_type": "display_data"
    }
   ],
   "source": [
    "# weather_21,weather_22 의 다양한 변수에 대하여 시각화\n",
    "\n",
    "weather_21['기온(°C)'].plot.line()\n",
    "\n"
   ]
  },
  {
   "cell_type": "code",
   "execution_count": 22,
   "id": "bcb00292",
   "metadata": {},
   "outputs": [
    {
     "data": {
      "text/plain": [
       "<AxesSubplot:>"
      ]
     },
     "execution_count": 22,
     "metadata": {},
     "output_type": "execute_result"
    },
    {
     "data": {
      "image/png": "[encoded data removed]",
      "text/plain": [
       "<Figure size 432x288 with 1 Axes>"
      ]
     },
     "metadata": {},
     "output_type": "display_data"
    }
   ],
   "source": [
    "# 아래에 필요한 코드를 작성하고 결과를 확인합니다.\n",
    "\n",
    "weather_21['지면온도(°C)'].plot.line()\n",
    "\n"
   ]
  },
  {
   "cell_type": "code",
   "execution_count": 23,
   "id": "6be4bb4b",
   "metadata": {},
   "outputs": [],
   "source": [
    "# 아래에 필요한 코드를 작성하고 결과를 확인합니다.\n",
    "\n",
    "\n",
    "\n"
   ]
  },
  {
   "cell_type": "code",
   "execution_count": 24,
   "id": "88c96dab",
   "metadata": {},
   "outputs": [],
   "source": [
    "# 시각화를 통해 알게된 사실을 정리해봅니다.\n",
    "# 1. \n",
    "# 2.\n",
    "# 3."
   ]
  }
 ],
 "metadata": {
  "kernelspec": {
   "display_name": "Python 3 (ipykernel)",
   "language": "python",
   "name": "python3"
  },
  "language_info": {
   "codemirror_mode": {
    "name": "ipython",
    "version": 3
   },
   "file_extension": ".py",
   "mimetype": "text/x-python",
   "name": "python",
   "nbconvert_exporter": "python",
   "pygments_lexer": "ipython3",
   "version": "3.8.3"
  },
  "vscode": {
   "interpreter": {
    "hash": "f08154012ddadd8e950e6e9e035c7a7b32c136e7647e9b7c77e02eb723a8bedb"
   }
  }
 },
 "nbformat": 4,
 "nbformat_minor": 5
}
