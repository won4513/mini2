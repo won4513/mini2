{
 "cells": [
  {
   "cell_type": "markdown",
   "id": "boxed-jamaica",
   "metadata": {},
   "source": [
    "**AIVLE School 미니프로젝트**\n",
    "### **공공데이터를 활용한 <span style=\"color:darkgreen\">미세먼지 농도</span> 예측**\n",
    "---"
   ]
  },
  {
   "cell_type": "markdown",
   "id": "967a7044-88a2-4b77-b020-5866c102d33d",
   "metadata": {},
   "source": [
    "#### **<span style=\"color:red\">[미션 안내]</span>**\n",
    "* 개인 미션: 미세먼지 농도를 예측하는 머신러닝 모델을 만드세요. ([2-1]부터 [2-10], [3-1]부터 [3-2] 까지 미션 수행)\n",
    "* 조별 미션: 개인 미션 수행한 내용에 대해 토론하여 발표 준비를 해주세요."
   ]
  },
  {
   "cell_type": "markdown",
   "id": "909025a3-58ec-482b-bdf2-6d828df85761",
   "metadata": {},
   "source": [
    "#### **<span style=\"color:red\">[주피터 노트북 파일 안내]</span>**\n",
    "1. 탐색적 데이터 분석(solution).ipynb: 미션 수행 대상 아님. 제공된 solution을 참고하여 [2-1]부터의 미션 수행을 위한 탐색적 데이터 분석 진행</br>\n",
    "2. 데이터 전처리.ipynb: [2-1]부터 [2-8] 까지 미션 수행 대상</br>\n",
    "3. 모델링(머신러닝).ipynb: [3-1]부터 [3-2] 까지 미션 수행 대상. [4-1]~[4-4]는 선택 사항임</br>"
   ]
  },
  {
   "cell_type": "markdown",
   "id": "a4e61711-04b3-4878-b95e-9115e4299ed1",
   "metadata": {},
   "source": [
    "#### **<span style=\"color:red\">[데이터 설명]</span>**\n",
    "\n",
    "* air_2021.csv : 2021년 미세먼지 데이터\n",
    "* air_2022.csv : 2022년 미세먼지 데이터\n",
    "* weather_2021.csv : 2021년 날씨 데이터\n",
    "* weather_2022.csv : 2022년 날씨 데이터\n",
    "* 학습 데이터: 2021년의 미세먼지 농도 데이터, 테스트 데이터: 2022년의 미세먼지 농도 데이터"
   ]
  },
  {
   "cell_type": "markdown",
   "id": "f2bc4fa5",
   "metadata": {},
   "source": [
    "# [Step 1] 탐색적 데이터 분석"
   ]
  },
  {
   "cell_type": "markdown",
   "id": "d480e6d6-3d32-43f7-94c7-4e0ebf980890",
   "metadata": {},
   "source": [
    "#### **<span style=\"color:blue\">[1-1] 필요한 라이브러리 설치</span>**"
   ]
  },
  {
   "cell_type": "code",
   "execution_count": null,
   "id": "4c6ced42",
   "metadata": {},
   "outputs": [],
   "source": [
    "# 필요한 라이브러리 설치 및 임포트\n",
    "%pip install pandas seaborn\n",
    "\n",
    "import pandas as pd\n",
    "import seaborn as sns\n",
    "import matplotlib as plt"
   ]
  },
  {
   "cell_type": "markdown",
   "id": "d7d7725c",
   "metadata": {},
   "source": [
    "---"
   ]
  },
  {
   "cell_type": "markdown",
   "id": "5e04ec22-530b-432f-967e-c38a2430aebf",
   "metadata": {},
   "source": [
    "#### **<span style=\"color:blue\">[1-2] 미세먼지 데이터 불러오기</span>**"
   ]
  },
  {
   "cell_type": "markdown",
   "id": "vocational-animal",
   "metadata": {},
   "source": [
    "* Pandas 라이브러리를 활용해서 'air_2021.csv'파일을 'air_21' 변수에, 'air_2022.csv'파일을 'air_22' 변수에 저장하고 그 데이터를 확인하세요.\n",
    "* 구분자(sep) : ','\n",
    "* encoder = 'utf-8'\n",
    "* index_col = 0"
   ]
  },
  {
   "cell_type": "code",
   "execution_count": null,
   "id": "saving-slope",
   "metadata": {},
   "outputs": [],
   "source": [
    "# 아래에 실습코드를 작성하고 결과를 확인합니다.\n",
    "# 'air_2021.csv'파일을 'air_21' 변수에, 'air_2022.csv'파일을 'air_22' 변수에 저장\n",
    "\n"
   ]
  },
  {
   "cell_type": "code",
   "execution_count": null,
   "id": "90307d62",
   "metadata": {},
   "outputs": [],
   "source": [
    "# air_21 데이터의 head 확인\n",
    "\n"
   ]
  },
  {
   "cell_type": "code",
   "execution_count": null,
   "id": "funny-subcommittee",
   "metadata": {},
   "outputs": [],
   "source": [
    "# air_21 데이터의 shape 확인\n",
    "\n"
   ]
  },
  {
   "cell_type": "code",
   "execution_count": null,
   "id": "dd66a7d4-108f-4253-99eb-a7e8eedf3d2c",
   "metadata": {},
   "outputs": [],
   "source": [
    "# air_22 데이터의 head 확인\n",
    "\n"
   ]
  },
  {
   "cell_type": "code",
   "execution_count": null,
   "id": "6d77b925",
   "metadata": {},
   "outputs": [],
   "source": [
    "# air_22 데이터의 shape 확인\n",
    "\n"
   ]
  },
  {
   "cell_type": "markdown",
   "id": "b90ad7aa-f7ba-4d6b-8ed5-1473fd8962fd",
   "metadata": {},
   "source": [
    "---"
   ]
  },
  {
   "cell_type": "markdown",
   "id": "1d5578ce-495d-4a79-9f27-77f4683d8352",
   "metadata": {},
   "source": [
    "#### **<span style=\"color:blue\">[1-3] 날씨 데이터 불러오기</span>**"
   ]
  },
  {
   "cell_type": "markdown",
   "id": "cb0ea254",
   "metadata": {},
   "source": [
    "* Pandas 라이브러리를 활용해서 'weather_2021.csv'파일을 'weather_21' 변수에, 'weather_2022.csv'파일을 'weather_22' 변수에 저장하고 그 데이터를 확인하세요.\n",
    "* 구분자(sep) : ','\n",
    "* encoder = 'cp949'"
   ]
  },
  {
   "cell_type": "code",
   "execution_count": null,
   "id": "25c17195",
   "metadata": {},
   "outputs": [],
   "source": [
    "#'weather_2021.csv'파일을 'weather_21' 변수에, 'weather_2022.csv'파일을 'weather_22' 변수에 저장\n",
    "\n"
   ]
  },
  {
   "cell_type": "code",
   "execution_count": null,
   "id": "3b77003b",
   "metadata": {},
   "outputs": [],
   "source": [
    "# 미세먼지 데이터와 같이 날씨 데이터의 head, shape 등을 확인\n",
    "\n"
   ]
  },
  {
   "cell_type": "markdown",
   "id": "5a366021-a8ae-41f3-b199-9eb81c6145d7",
   "metadata": {},
   "source": [
    "---"
   ]
  },
  {
   "cell_type": "markdown",
   "id": "2d695c0c-7081-4964-a970-0ee7196e0c71",
   "metadata": {},
   "source": [
    "#### **<span style=\"color:blue\">[1-4] 데이터 변수 확인</span>**"
   ]
  },
  {
   "cell_type": "code",
   "execution_count": null,
   "id": "demographic-battery",
   "metadata": {},
   "outputs": [],
   "source": [
    "# 각 데이터프레임의 info 확인\n",
    "\n"
   ]
  },
  {
   "cell_type": "code",
   "execution_count": null,
   "id": "940a114a",
   "metadata": {},
   "outputs": [],
   "source": [
    "# 아래에 필요한 코드를 작성하고 결과를 확인합니다.\n",
    "\n"
   ]
  },
  {
   "cell_type": "code",
   "execution_count": null,
   "id": "76019dd9",
   "metadata": {},
   "outputs": [],
   "source": [
    "# 아래에 필요한 코드를 작성하고 결과를 확인합니다.\n",
    "\n"
   ]
  },
  {
   "cell_type": "markdown",
   "id": "602b8bae",
   "metadata": {
    "tags": []
   },
   "source": [
    "---"
   ]
  },
  {
   "cell_type": "markdown",
   "id": "189b5049-ccf9-41f1-a6cd-6d749332451d",
   "metadata": {},
   "source": [
    "#### **<span style=\"color:blue\">[1-5] 미세먼지 데이터 분석</span>**"
   ]
  },
  {
   "cell_type": "markdown",
   "id": "southeast-integration",
   "metadata": {},
   "source": [
    "* 데이터 전처리와 모델링을 위해 데이터 분석을 진행해보세요. 시각화 등을 통해 관측치들의 패턴 탐색, 잘못된 자료 탐색, 변수들간의 관계 파악을 할 수 있습니다."
   ]
  },
  {
   "cell_type": "code",
   "execution_count": null,
   "id": "194ae01d",
   "metadata": {},
   "outputs": [],
   "source": [
    "# 시각화 한글폰트 설정 (아래 코드를 실행하세요)\n",
    "\n",
    "plt.rc('font', family='Malgun Gothic')\n",
    "sns.set(font=\"Malgun Gothic\",#\"NanumGothicCoding\", \n",
    "        rc={\"axes.unicode_minus\":False}, # 마이너스 부호 깨짐 현상 해결\n",
    "        style='darkgrid')"
   ]
  },
  {
   "cell_type": "code",
   "execution_count": null,
   "id": "2a610ade",
   "metadata": {},
   "outputs": [],
   "source": [
    "# air_21,air_22 의 다양한 변수에 대하여 시각화\n",
    "\n",
    "\n"
   ]
  },
  {
   "cell_type": "code",
   "execution_count": null,
   "id": "b0bc6ec5",
   "metadata": {},
   "outputs": [],
   "source": [
    "# 아래에 필요한 코드를 작성하고 결과를 확인합니다.\n",
    "\n",
    "\n",
    "\n"
   ]
  },
  {
   "cell_type": "code",
   "execution_count": null,
   "id": "f295f8db",
   "metadata": {},
   "outputs": [],
   "source": [
    "# 아래에 필요한 코드를 작성하고 결과를 확인합니다.\n",
    "\n",
    "\n"
   ]
  },
  {
   "cell_type": "code",
   "execution_count": null,
   "id": "86892a60",
   "metadata": {},
   "outputs": [],
   "source": [
    "# 시각화를 통해 알게된 사실을 정리해봅니다.\n",
    "# 1. \n",
    "# 2.\n",
    "# 3."
   ]
  },
  {
   "cell_type": "markdown",
   "id": "5b94a5fa-3b40-404b-a3ba-f04ffa855aa3",
   "metadata": {
    "tags": []
   },
   "source": [
    "---"
   ]
  },
  {
   "cell_type": "markdown",
   "id": "61945726-a2f9-4abc-965b-eedb0d5b492b",
   "metadata": {},
   "source": [
    "#### **<span style=\"color:blue\">[1-6] 날씨 데이터 분석</span>**"
   ]
  },
  {
   "cell_type": "code",
   "execution_count": null,
   "id": "f1ca7a5a",
   "metadata": {},
   "outputs": [],
   "source": []
  },
  {
   "cell_type": "code",
   "execution_count": null,
   "id": "eb26af58",
   "metadata": {},
   "outputs": [],
   "source": [
    "# weather_21,weather_22 의 다양한 변수에 대하여 시각화\n",
    "\n",
    "\n",
    "\n"
   ]
  },
  {
   "cell_type": "code",
   "execution_count": null,
   "id": "bcb00292",
   "metadata": {},
   "outputs": [],
   "source": [
    "# 아래에 필요한 코드를 작성하고 결과를 확인합니다.\n",
    "\n",
    "\n",
    "\n"
   ]
  },
  {
   "cell_type": "code",
   "execution_count": null,
   "id": "6be4bb4b",
   "metadata": {},
   "outputs": [],
   "source": [
    "# 아래에 필요한 코드를 작성하고 결과를 확인합니다.\n",
    "\n",
    "\n",
    "\n"
   ]
  },
  {
   "cell_type": "code",
   "execution_count": null,
   "id": "88c96dab",
   "metadata": {},
   "outputs": [],
   "source": [
    "# 시각화를 통해 알게된 사실을 정리해봅니다.\n",
    "# 1. \n",
    "# 2.\n",
    "# 3."
   ]
  }
 ],
 "metadata": {
  "kernelspec": {
   "display_name": "Python 3 (ipykernel)",
   "language": "python",
   "name": "python3"
  },
  "language_info": {
   "codemirror_mode": {
    "name": "ipython",
    "version": 3
   },
   "file_extension": ".py",
   "mimetype": "text/x-python",
   "name": "python",
   "nbconvert_exporter": "python",
   "pygments_lexer": "ipython3",
   "version": "3.9.12"
  },
  "vscode": {
   "interpreter": {
    "hash": "f08154012ddadd8e950e6e9e035c7a7b32c136e7647e9b7c77e02eb723a8bedb"
   }
  }
 },
 "nbformat": 4,
 "nbformat_minor": 5
}
